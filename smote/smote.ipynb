{
 "cells": [
  {
   "cell_type": "code",
   "execution_count": 9,
   "id": "779fbf84",
   "metadata": {},
   "outputs": [],
   "source": [
    "import pandas as pd\n",
    "import numpy as np\n",
    "from sklearn.model_selection import train_test_split"
   ]
  },
  {
   "cell_type": "code",
   "execution_count": 5,
   "id": "3a89be1f",
   "metadata": {},
   "outputs": [
    {
     "name": "stderr",
     "output_type": "stream",
     "text": [
      "/var/folders/z9/dzxcw2k50f17832w60gvr9qw0000gn/T/ipykernel_4112/447338999.py:1: DtypeWarning: Columns (0,19,49,59,118,129,130,131,134,135,136,139,145,146,147) have mixed types. Specify dtype option on import or set low_memory=False.\n",
      "  accepted = pd.read_csv('accepted.csv')\n"
     ]
    }
   ],
   "source": [
    "accepted = pd.read_csv('accepted.csv')\n",
    "\n",
    "selected_cols = [\n",
    "    'loan_amnt', 'term', 'int_rate', 'installment', 'grade', 'sub_grade',\n",
    "    'emp_title', 'emp_length', 'home_ownership', 'annual_inc',\n",
    "    'verification_status', 'purpose', 'dti', 'fico_range_low', 'fico_range_high',\n",
    "    'open_acc', 'revol_bal', 'revol_util', 'total_acc', 'loan_status'\n",
    "]\n",
    "\n",
    "accepted_selected = accepted[selected_cols]\n",
    "\n",
    "\n",
    "# =====================[ IQR 이상치 제거 함수 ]=====================\n",
    "def remove_outliers_iqr(accepted_selected, cols):\n",
    "    for col in cols:\n",
    "        Q1 = accepted_selected[col].quantile(0.25)\n",
    "        Q3 = accepted_selected[col].quantile(0.75)\n",
    "        IQR = Q3 - Q1\n",
    "        mask = (accepted_selected[col] >= Q1 - 1.5*IQR) & (accepted_selected[col] <= Q3 + 1.5*IQR)\n",
    "        accepted_selected = accepted_selected[mask]\n",
    "    return accepted_selected.reset_index(drop=True)\n",
    "\n",
    "\n",
    "iqr_cols = ['loan_amnt', 'installment', 'annual_inc', 'dti',\n",
    "            'open_acc', 'revol_bal', 'revol_util', 'total_acc']\n",
    "\n",
    "\n",
    "accepted_filtered = remove_outliers_iqr(accepted_selected, iqr_cols)\n",
    "\n",
    "# 컬럼별 허용 값 범위로 필터링\n",
    "accepted_filtered = accepted_filtered[\n",
    "    (accepted_filtered['int_rate'] >= 6) & (accepted_filtered['int_rate'] <= 31) &\n",
    "    (accepted_filtered['dti'] >= 0) & (accepted_filtered['dti'] <= 40) &\n",
    "    (accepted_filtered['annual_inc'] > 0) &\n",
    "    (accepted_filtered['revol_util'] >= 0) & (accepted_filtered['revol_util'] <= 100) &\n",
    "    (accepted_filtered['annual_inc'] > 0)\n",
    "]\n",
    "\n",
    "# 'emp_length' 결측값을 'Unknown'으로 대체\n",
    "accepted_filtered['emp_length'] = accepted_filtered['emp_length'].fillna('Unknown')\n",
    "\n",
    "# 'term' 컬럼에서 숫자만 추출하여 정수형으로 변환 ('36 months' → 36)\n",
    "accepted_filtered['term'] = accepted_filtered['term'].astype(str).str.extract(r'(\\d+)').astype(int)\n",
    "\n",
    "# 'grade' 등급을 문자에서 숫자 코드(0~6)로 변환 ('grade' ML 시 졔외)\n",
    "grade_map = {'A':6, 'B':5, 'C':4, 'D':3, 'E':2, 'F':1, 'G':0}\n",
    "accepted_filtered['grade_map'] = accepted_filtered['grade'].map(grade_map)\n",
    "\n",
    "# 'sub_grade' 등급을 문자에서 숫자 코드(0~34)로 변환 ('sub_grade' ML 시 졔외)\n",
    "import re\n",
    "\n",
    "accepted_filtered['sub_grade'] = accepted_filtered['sub_grade'].astype(str)\n",
    "\n",
    "def map_subgrade(sg):\n",
    "   try:\n",
    "       sg = str(sg).strip().upper()  \n",
    "       match = re.match(r'^([A-G])([1-5])$', sg) \n",
    "       if match:\n",
    "           letter = match.group(1)\n",
    "           number = int(match.group(2))\n",
    "           return grade_map[letter] * 5 + (5 - number)\n",
    "       else:\n",
    "           return None \n",
    "   except:\n",
    "       return None\n",
    "\n",
    "accepted_filtered['sub_grade_map'] = accepted_filtered['sub_grade'].apply(map_subgrade)\n",
    "\n",
    "# emp_length 문자에서 숫자 코드(0~10)로 변환 ('emp_length' ML 시 졔외)\n",
    "emp_length_map = {\n",
    "   '10+ years': 10,\n",
    "   '9 years': 9,\n",
    "   '8 years': 8,\n",
    "   '7 years': 7,\n",
    "   '6 years': 6,\n",
    "   '5 years': 5,\n",
    "   '4 years': 4,\n",
    "   '3 years': 3,\n",
    "   '2 years': 2,\n",
    "   '1 year': 1,\n",
    "   '< 1 year': 0.5,\n",
    "   'n/a': 0\n",
    "}\n",
    "\n",
    "\n",
    "accepted_filtered['emp_length_map'] = accepted_filtered['emp_length'].map(emp_length_map)\n",
    "\n",
    "# =====================[ log 변환 (skewed 수치형) ]=====================\n",
    "\n",
    "# 왜도(skew)가 큰 수치형 변수에 로그 변환 적용('annual_inc', 'revol_bal' ML 시 제외)\n",
    "accepted_filtered['annual_inc_log'] = np.log1p(accepted_filtered['annual_inc'])\n",
    "accepted_filtered['revol_bal_log'] = np.log1p(accepted_filtered['revol_bal'])\n",
    "\n",
    "\n",
    "\n",
    "accepted_filtered['fico_mean'] = (accepted_filtered['fico_range_low'] + accepted_filtered['fico_range_high']) / 2\n",
    "\n",
    "# 레이블 인코딩 딕셔너리 예시 (이진 분류)\n",
    "loan_status_map = {\n",
    "   'Fully Paid': 1,\n",
    "   'Current': 1,   # 또는 np.nan으로 두고 제거할 수도 있음\n",
    "   'Charged Off': 0,\n",
    "   'Late (31-120 days)': 0,\n",
    "   'Late (16-30 days)': 0,\n",
    "   'In Grace Period': 0,\n",
    "   'Does not meet the credit policy. Status:Fully Paid': 1,\n",
    "   'Does not meet the credit policy. Status:Charged Off': 0\n",
    "}\n",
    "# 'accepted_filtered'을 이용할 때\n",
    "accepted_filtered['loan_status_f'] = accepted_filtered['loan_status'].map(loan_status_map)\n"
   ]
  },
  {
   "cell_type": "code",
   "execution_count": 6,
   "id": "9ae59097",
   "metadata": {},
   "outputs": [],
   "source": [
    "cols_ml = [\n",
    "   'int_rate', 'installment', 'purpose', 'dti', 'open_acc', 'revol_util',\n",
    "   'total_acc', 'emp_length_map', 'annual_inc_log', 'revol_bal_log', 'fico_mean',\n",
    "   'term', 'home_ownership', 'verification_status', 'purpose', 'loan_status_f'\n",
    "]\n",
    "\n",
    "accepted_ml = accepted_filtered[cols_ml]\n",
    "\n",
    "# 결측값이 포함된 행 전체 제거\n",
    "accepted_ml = accepted_ml.dropna().reset_index(drop=True)"
   ]
  },
  {
   "cell_type": "code",
   "execution_count": 7,
   "id": "0234c2ad",
   "metadata": {},
   "outputs": [],
   "source": [
    "# 반드시 한번만 실행(여러번 실행 했을 시 accepted_ml 등장할 때부터 다시 돌리기)\n",
    "accepted_ml = pd.get_dummies(\n",
    "   accepted_ml,\n",
    "   columns=['term', 'home_ownership', 'verification_status', 'purpose'],\n",
    "   drop_first=True,\n",
    "   dtype=int\n",
    ")\n",
    "\n",
    "accepted_ml = accepted_ml.loc[:, ~accepted_ml.columns.duplicated()]"
   ]
  },
  {
   "cell_type": "code",
   "execution_count": 10,
   "id": "a2b87263",
   "metadata": {},
   "outputs": [],
   "source": [
    "# 데이터 분할\n",
    "df = accepted_ml.copy()  \n",
    "X = df.drop(columns='loan_status_f')\n",
    "y = df['loan_status_f']\n",
    "\n",
    "X_train, X_valid, y_train, y_valid = train_test_split(X, y, test_size = 0.2, random_state=42)\n",
    "\n",
    "# dtype 정제\n",
    "y_train = y_train.astype(int).reset_index(drop=True)\n",
    "X_train = X_train.reset_index(drop=True)\n",
    "X_valid = X_valid.reset_index(drop=True)"
   ]
  },
  {
   "cell_type": "markdown",
   "id": "ec97d733",
   "metadata": {},
   "source": []
  },
  {
   "cell_type": "code",
   "execution_count": 11,
   "id": "271f0b90",
   "metadata": {},
   "outputs": [
    {
     "name": "stdout",
     "output_type": "stream",
     "text": [
      "Before SMOTE: loan_status_f\n",
      "1    1145449\n",
      "0     182891\n",
      "Name: count, dtype: int64\n",
      "After SMOTE: loan_status_f\n",
      "1    1145449\n",
      "0    1145449\n",
      "Name: count, dtype: int64\n"
     ]
    }
   ],
   "source": [
    "from imblearn.over_sampling import SMOTE\n",
    "\n",
    "smote = SMOTE(random_state=42)\n",
    "X_train_res, y_train_res = smote.fit_resample(X_train, y_train)\n",
    "\n",
    "print(\"Before SMOTE:\", y_train.value_counts())\n",
    "print(\"After SMOTE:\", y_train_res.value_counts())"
   ]
  },
  {
   "cell_type": "code",
   "execution_count": 12,
   "id": "ef4d07f9",
   "metadata": {},
   "outputs": [],
   "source": [
    "from imblearn.under_sampling import RandomUnderSampler\n",
    "\n",
    "\n",
    "rus = RandomUnderSampler(random_state=42)\n",
    "X_train_under, y_train_under = rus.fit_resample(X_train, y_train)"
   ]
  }
 ],
 "metadata": {
  "kernelspec": {
   "display_name": "smote",
   "language": "python",
   "name": "python3"
  },
  "language_info": {
   "codemirror_mode": {
    "name": "ipython",
    "version": 3
   },
   "file_extension": ".py",
   "mimetype": "text/x-python",
   "name": "python",
   "nbconvert_exporter": "python",
   "pygments_lexer": "ipython3",
   "version": "3.10.14"
  }
 },
 "nbformat": 4,
 "nbformat_minor": 5
}
